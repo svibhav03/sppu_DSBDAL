{
 "cells": [
  {
   "cell_type": "code",
   "execution_count": 1,
   "metadata": {},
   "outputs": [],
   "source": [
    "import numpy as np   \n",
    "import pandas as pd    \n",
    "import matplotlib.pyplot as plt \n",
    "%matplotlib inline \n",
    "import seaborn as sns\n",
    "from sklearn.preprocessing import LabelEncoder"
   ]
  },
  {
   "cell_type": "code",
   "execution_count": 2,
   "metadata": {},
   "outputs": [
    {
     "data": {
      "text/plain": [
       "(458, 9)"
      ]
     },
     "execution_count": 2,
     "metadata": {},
     "output_type": "execute_result"
    }
   ],
   "source": [
    "data = pd.read_csv(\"datasets/nba.csv\")\n",
    "data.shape\n"
   ]
  },
  {
   "cell_type": "code",
   "execution_count": 3,
   "metadata": {},
   "outputs": [
    {
     "data": {
      "text/plain": [
       "Name         object\n",
       "Team         object\n",
       "Number      float64\n",
       "Position     object\n",
       "Age         float64\n",
       "Height       object\n",
       "Weight      float64\n",
       "College      object\n",
       "Salary      float64\n",
       "dtype: object"
      ]
     },
     "execution_count": 3,
     "metadata": {},
     "output_type": "execute_result"
    }
   ],
   "source": [
    "data.dtypes"
   ]
  },
  {
   "cell_type": "code",
   "execution_count": 4,
   "metadata": {},
   "outputs": [
    {
     "data": {
      "text/html": [
       "<div>\n",
       "<style scoped>\n",
       "    .dataframe tbody tr th:only-of-type {\n",
       "        vertical-align: middle;\n",
       "    }\n",
       "\n",
       "    .dataframe tbody tr th {\n",
       "        vertical-align: top;\n",
       "    }\n",
       "\n",
       "    .dataframe thead th {\n",
       "        text-align: right;\n",
       "    }\n",
       "</style>\n",
       "<table border=\"1\" class=\"dataframe\">\n",
       "  <thead>\n",
       "    <tr style=\"text-align: right;\">\n",
       "      <th></th>\n",
       "      <th>Number</th>\n",
       "      <th>Age</th>\n",
       "      <th>Weight</th>\n",
       "      <th>Salary</th>\n",
       "    </tr>\n",
       "  </thead>\n",
       "  <tbody>\n",
       "    <tr>\n",
       "      <th>count</th>\n",
       "      <td>457.000000</td>\n",
       "      <td>457.000000</td>\n",
       "      <td>457.000000</td>\n",
       "      <td>4.460000e+02</td>\n",
       "    </tr>\n",
       "    <tr>\n",
       "      <th>mean</th>\n",
       "      <td>17.678337</td>\n",
       "      <td>26.938731</td>\n",
       "      <td>221.522976</td>\n",
       "      <td>4.842684e+06</td>\n",
       "    </tr>\n",
       "    <tr>\n",
       "      <th>std</th>\n",
       "      <td>15.966090</td>\n",
       "      <td>4.404016</td>\n",
       "      <td>26.368343</td>\n",
       "      <td>5.229238e+06</td>\n",
       "    </tr>\n",
       "    <tr>\n",
       "      <th>min</th>\n",
       "      <td>0.000000</td>\n",
       "      <td>19.000000</td>\n",
       "      <td>161.000000</td>\n",
       "      <td>3.088800e+04</td>\n",
       "    </tr>\n",
       "    <tr>\n",
       "      <th>25%</th>\n",
       "      <td>5.000000</td>\n",
       "      <td>24.000000</td>\n",
       "      <td>200.000000</td>\n",
       "      <td>1.044792e+06</td>\n",
       "    </tr>\n",
       "    <tr>\n",
       "      <th>50%</th>\n",
       "      <td>13.000000</td>\n",
       "      <td>26.000000</td>\n",
       "      <td>220.000000</td>\n",
       "      <td>2.839073e+06</td>\n",
       "    </tr>\n",
       "    <tr>\n",
       "      <th>75%</th>\n",
       "      <td>25.000000</td>\n",
       "      <td>30.000000</td>\n",
       "      <td>240.000000</td>\n",
       "      <td>6.500000e+06</td>\n",
       "    </tr>\n",
       "    <tr>\n",
       "      <th>max</th>\n",
       "      <td>99.000000</td>\n",
       "      <td>40.000000</td>\n",
       "      <td>307.000000</td>\n",
       "      <td>2.500000e+07</td>\n",
       "    </tr>\n",
       "  </tbody>\n",
       "</table>\n",
       "</div>"
      ],
      "text/plain": [
       "           Number         Age      Weight        Salary\n",
       "count  457.000000  457.000000  457.000000  4.460000e+02\n",
       "mean    17.678337   26.938731  221.522976  4.842684e+06\n",
       "std     15.966090    4.404016   26.368343  5.229238e+06\n",
       "min      0.000000   19.000000  161.000000  3.088800e+04\n",
       "25%      5.000000   24.000000  200.000000  1.044792e+06\n",
       "50%     13.000000   26.000000  220.000000  2.839073e+06\n",
       "75%     25.000000   30.000000  240.000000  6.500000e+06\n",
       "max     99.000000   40.000000  307.000000  2.500000e+07"
      ]
     },
     "execution_count": 4,
     "metadata": {},
     "output_type": "execute_result"
    }
   ],
   "source": [
    "data.describe()"
   ]
  },
  {
   "cell_type": "code",
   "execution_count": 5,
   "metadata": {},
   "outputs": [
    {
     "data": {
      "text/plain": [
       "Name         1\n",
       "Team         1\n",
       "Number       1\n",
       "Position     1\n",
       "Age          1\n",
       "Height       1\n",
       "Weight       1\n",
       "College     85\n",
       "Salary      12\n",
       "dtype: int64"
      ]
     },
     "execution_count": 5,
     "metadata": {},
     "output_type": "execute_result"
    }
   ],
   "source": [
    "data.isnull().sum()"
   ]
  },
  {
   "cell_type": "code",
   "execution_count": 6,
   "metadata": {},
   "outputs": [
    {
     "data": {
      "text/html": [
       "<div>\n",
       "<style scoped>\n",
       "    .dataframe tbody tr th:only-of-type {\n",
       "        vertical-align: middle;\n",
       "    }\n",
       "\n",
       "    .dataframe tbody tr th {\n",
       "        vertical-align: top;\n",
       "    }\n",
       "\n",
       "    .dataframe thead th {\n",
       "        text-align: right;\n",
       "    }\n",
       "</style>\n",
       "<table border=\"1\" class=\"dataframe\">\n",
       "  <thead>\n",
       "    <tr style=\"text-align: right;\">\n",
       "      <th></th>\n",
       "      <th>Name</th>\n",
       "      <th>Team</th>\n",
       "      <th>Number</th>\n",
       "      <th>Position</th>\n",
       "      <th>Age</th>\n",
       "      <th>Height</th>\n",
       "      <th>Weight</th>\n",
       "      <th>College</th>\n",
       "      <th>Salary</th>\n",
       "    </tr>\n",
       "  </thead>\n",
       "  <tbody>\n",
       "    <tr>\n",
       "      <th>0</th>\n",
       "      <td>Avery Bradley</td>\n",
       "      <td>Boston Celtics</td>\n",
       "      <td>0.0</td>\n",
       "      <td>PG</td>\n",
       "      <td>25.0</td>\n",
       "      <td>6-2</td>\n",
       "      <td>180.0</td>\n",
       "      <td>Texas</td>\n",
       "      <td>7730337.0</td>\n",
       "    </tr>\n",
       "    <tr>\n",
       "      <th>1</th>\n",
       "      <td>Jae Crowder</td>\n",
       "      <td>Boston Celtics</td>\n",
       "      <td>99.0</td>\n",
       "      <td>SF</td>\n",
       "      <td>25.0</td>\n",
       "      <td>6-6</td>\n",
       "      <td>235.0</td>\n",
       "      <td>Marquette</td>\n",
       "      <td>6796117.0</td>\n",
       "    </tr>\n",
       "    <tr>\n",
       "      <th>2</th>\n",
       "      <td>John Holland</td>\n",
       "      <td>Boston Celtics</td>\n",
       "      <td>30.0</td>\n",
       "      <td>SG</td>\n",
       "      <td>27.0</td>\n",
       "      <td>6-5</td>\n",
       "      <td>205.0</td>\n",
       "      <td>Boston University</td>\n",
       "      <td>NaN</td>\n",
       "    </tr>\n",
       "    <tr>\n",
       "      <th>3</th>\n",
       "      <td>R.J. Hunter</td>\n",
       "      <td>Boston Celtics</td>\n",
       "      <td>28.0</td>\n",
       "      <td>SG</td>\n",
       "      <td>22.0</td>\n",
       "      <td>6-5</td>\n",
       "      <td>185.0</td>\n",
       "      <td>Georgia State</td>\n",
       "      <td>1148640.0</td>\n",
       "    </tr>\n",
       "    <tr>\n",
       "      <th>4</th>\n",
       "      <td>Jonas Jerebko</td>\n",
       "      <td>Boston Celtics</td>\n",
       "      <td>8.0</td>\n",
       "      <td>PF</td>\n",
       "      <td>29.0</td>\n",
       "      <td>6-10</td>\n",
       "      <td>231.0</td>\n",
       "      <td>NaN</td>\n",
       "      <td>5000000.0</td>\n",
       "    </tr>\n",
       "  </tbody>\n",
       "</table>\n",
       "</div>"
      ],
      "text/plain": [
       "            Name            Team  Number Position   Age Height  Weight  \\\n",
       "0  Avery Bradley  Boston Celtics     0.0       PG  25.0    6-2   180.0   \n",
       "1    Jae Crowder  Boston Celtics    99.0       SF  25.0    6-6   235.0   \n",
       "2   John Holland  Boston Celtics    30.0       SG  27.0    6-5   205.0   \n",
       "3    R.J. Hunter  Boston Celtics    28.0       SG  22.0    6-5   185.0   \n",
       "4  Jonas Jerebko  Boston Celtics     8.0       PF  29.0   6-10   231.0   \n",
       "\n",
       "             College     Salary  \n",
       "0              Texas  7730337.0  \n",
       "1          Marquette  6796117.0  \n",
       "2  Boston University        NaN  \n",
       "3      Georgia State  1148640.0  \n",
       "4                NaN  5000000.0  "
      ]
     },
     "execution_count": 6,
     "metadata": {},
     "output_type": "execute_result"
    }
   ],
   "source": [
    "data.head()"
   ]
  },
  {
   "cell_type": "code",
   "execution_count": 7,
   "metadata": {},
   "outputs": [
    {
     "data": {
      "text/plain": [
       "array(['PG', 'SF', 'SG', 'PF', 'C', nan], dtype=object)"
      ]
     },
     "execution_count": 7,
     "metadata": {},
     "output_type": "execute_result"
    }
   ],
   "source": [
    "data.Position.unique()"
   ]
  },
  {
   "cell_type": "code",
   "execution_count": 9,
   "metadata": {},
   "outputs": [],
   "source": [
    "mode = data[\"College\"].mode()"
   ]
  },
  {
   "cell_type": "code",
   "execution_count": 17,
   "metadata": {},
   "outputs": [],
   "source": [
    "data['College'].fillna(mode[0], inplace=True)"
   ]
  },
  {
   "cell_type": "code",
   "execution_count": 18,
   "metadata": {},
   "outputs": [],
   "source": [
    "mean = data[\"Salary\"].mean()"
   ]
  },
  {
   "cell_type": "code",
   "execution_count": 20,
   "metadata": {},
   "outputs": [],
   "source": [
    "data['Salary'].fillna(mean, inplace=True)"
   ]
  },
  {
   "cell_type": "code",
   "execution_count": 21,
   "metadata": {},
   "outputs": [],
   "source": [
    "data.dropna(inplace=True)"
   ]
  },
  {
   "cell_type": "code",
   "execution_count": 22,
   "metadata": {},
   "outputs": [
    {
     "data": {
      "text/plain": [
       "Name        0\n",
       "Team        0\n",
       "Number      0\n",
       "Position    0\n",
       "Age         0\n",
       "Height      0\n",
       "Weight      0\n",
       "College     0\n",
       "Salary      0\n",
       "dtype: int64"
      ]
     },
     "execution_count": 22,
     "metadata": {},
     "output_type": "execute_result"
    }
   ],
   "source": [
    "data.isnull().sum()"
   ]
  },
  {
   "cell_type": "code",
   "execution_count": 23,
   "metadata": {},
   "outputs": [
    {
     "data": {
      "text/plain": [
       "6-9     59\n",
       "6-10    47\n",
       "6-7     45\n",
       "6-8     43\n",
       "6-6     42\n",
       "6-11    40\n",
       "6-3     33\n",
       "6-5     32\n",
       "6-4     29\n",
       "7-0     27\n",
       "6-1     16\n",
       "6-2     16\n",
       "6-0     10\n",
       "7-1      7\n",
       "7-3      4\n",
       "5-11     3\n",
       "7-2      3\n",
       "5-9      1\n",
       "Name: Height, dtype: int64"
      ]
     },
     "execution_count": 23,
     "metadata": {},
     "output_type": "execute_result"
    }
   ],
   "source": [
    "data['Height'].value_counts()"
   ]
  },
  {
   "cell_type": "code",
   "execution_count": 29,
   "metadata": {},
   "outputs": [
    {
     "data": {
      "image/png": "[encoded data removed]",
      "text/plain": [
       "<Figure size 432x288 with 1 Axes>"
      ]
     },
     "metadata": {
      "needs_background": "light"
     },
     "output_type": "display_data"
    }
   ],
   "source": [
    "plt.bar(data['Height'].value_counts().index , data['Height'].value_counts(),  data = data, color = \"blue\")\n",
    "plt.xlabel(\"Height Group\")\n",
    "plt.xticks(rotation = 90)\n",
    "plt.ylabel(\"Count\")\n",
    "plt.title(\"Group Wise Height Distribution\")\n",
    "plt.show()"
   ]
  },
  {
   "cell_type": "code",
   "execution_count": 30,
   "metadata": {},
   "outputs": [],
   "source": [
    "groupedHeights = data.groupby(data['Height'])"
   ]
  },
  {
   "cell_type": "code",
   "execution_count": 39,
   "metadata": {},
   "outputs": [
    {
     "data": {
      "text/html": [
       "<div>\n",
       "<style scoped>\n",
       "    .dataframe tbody tr th:only-of-type {\n",
       "        vertical-align: middle;\n",
       "    }\n",
       "\n",
       "    .dataframe tbody tr th {\n",
       "        vertical-align: top;\n",
       "    }\n",
       "\n",
       "    .dataframe thead tr th {\n",
       "        text-align: left;\n",
       "    }\n",
       "\n",
       "    .dataframe thead tr:last-of-type th {\n",
       "        text-align: right;\n",
       "    }\n",
       "</style>\n",
       "<table border=\"1\" class=\"dataframe\">\n",
       "  <thead>\n",
       "    <tr>\n",
       "      <th></th>\n",
       "      <th colspan=\"8\" halign=\"left\">Number</th>\n",
       "      <th colspan=\"2\" halign=\"left\">Age</th>\n",
       "      <th>...</th>\n",
       "      <th colspan=\"2\" halign=\"left\">Weight</th>\n",
       "      <th colspan=\"8\" halign=\"left\">Salary</th>\n",
       "    </tr>\n",
       "    <tr>\n",
       "      <th></th>\n",
       "      <th>count</th>\n",
       "      <th>mean</th>\n",
       "      <th>std</th>\n",
       "      <th>min</th>\n",
       "      <th>25%</th>\n",
       "      <th>50%</th>\n",
       "      <th>75%</th>\n",
       "      <th>max</th>\n",
       "      <th>count</th>\n",
       "      <th>mean</th>\n",
       "      <th>...</th>\n",
       "      <th>75%</th>\n",
       "      <th>max</th>\n",
       "      <th>count</th>\n",
       "      <th>mean</th>\n",
       "      <th>std</th>\n",
       "      <th>min</th>\n",
       "      <th>25%</th>\n",
       "      <th>50%</th>\n",
       "      <th>75%</th>\n",
       "      <th>max</th>\n",
       "    </tr>\n",
       "    <tr>\n",
       "      <th>Height</th>\n",
       "      <th></th>\n",
       "      <th></th>\n",
       "      <th></th>\n",
       "      <th></th>\n",
       "      <th></th>\n",
       "      <th></th>\n",
       "      <th></th>\n",
       "      <th></th>\n",
       "      <th></th>\n",
       "      <th></th>\n",
       "      <th></th>\n",
       "      <th></th>\n",
       "      <th></th>\n",
       "      <th></th>\n",
       "      <th></th>\n",
       "      <th></th>\n",
       "      <th></th>\n",
       "      <th></th>\n",
       "      <th></th>\n",
       "      <th></th>\n",
       "      <th></th>\n",
       "    </tr>\n",
       "  </thead>\n",
       "  <tbody>\n",
       "    <tr>\n",
       "      <th>5-11</th>\n",
       "      <td>3.0</td>\n",
       "      <td>11.666667</td>\n",
       "      <td>12.583057</td>\n",
       "      <td>0.0</td>\n",
       "      <td>5.00</td>\n",
       "      <td>10.0</td>\n",
       "      <td>17.50</td>\n",
       "      <td>25.0</td>\n",
       "      <td>3.0</td>\n",
       "      <td>25.333333</td>\n",
       "      <td>...</td>\n",
       "      <td>185.00</td>\n",
       "      <td>195.0</td>\n",
       "      <td>3.0</td>\n",
       "      <td>5.891553e+05</td>\n",
       "      <td>7.926627e+05</td>\n",
       "      <td>55722.0</td>\n",
       "      <td>133733.0</td>\n",
       "      <td>211744.0</td>\n",
       "      <td>8.558720e+05</td>\n",
       "      <td>1500000.0</td>\n",
       "    </tr>\n",
       "    <tr>\n",
       "      <th>5-9</th>\n",
       "      <td>1.0</td>\n",
       "      <td>4.000000</td>\n",
       "      <td>NaN</td>\n",
       "      <td>4.0</td>\n",
       "      <td>4.00</td>\n",
       "      <td>4.0</td>\n",
       "      <td>4.00</td>\n",
       "      <td>4.0</td>\n",
       "      <td>1.0</td>\n",
       "      <td>27.000000</td>\n",
       "      <td>...</td>\n",
       "      <td>185.00</td>\n",
       "      <td>185.0</td>\n",
       "      <td>1.0</td>\n",
       "      <td>6.912869e+06</td>\n",
       "      <td>NaN</td>\n",
       "      <td>6912869.0</td>\n",
       "      <td>6912869.0</td>\n",
       "      <td>6912869.0</td>\n",
       "      <td>6.912869e+06</td>\n",
       "      <td>6912869.0</td>\n",
       "    </tr>\n",
       "    <tr>\n",
       "      <th>6-0</th>\n",
       "      <td>10.0</td>\n",
       "      <td>4.400000</td>\n",
       "      <td>4.060651</td>\n",
       "      <td>0.0</td>\n",
       "      <td>1.00</td>\n",
       "      <td>4.0</td>\n",
       "      <td>7.00</td>\n",
       "      <td>12.0</td>\n",
       "      <td>10.0</td>\n",
       "      <td>29.200000</td>\n",
       "      <td>...</td>\n",
       "      <td>188.75</td>\n",
       "      <td>205.0</td>\n",
       "      <td>10.0</td>\n",
       "      <td>5.784075e+06</td>\n",
       "      <td>6.337144e+06</td>\n",
       "      <td>947276.0</td>\n",
       "      <td>2437500.0</td>\n",
       "      <td>3934473.5</td>\n",
       "      <td>4.846419e+06</td>\n",
       "      <td>21468695.0</td>\n",
       "    </tr>\n",
       "    <tr>\n",
       "      <th>6-1</th>\n",
       "      <td>16.0</td>\n",
       "      <td>15.062500</td>\n",
       "      <td>16.794716</td>\n",
       "      <td>2.0</td>\n",
       "      <td>2.00</td>\n",
       "      <td>10.0</td>\n",
       "      <td>18.50</td>\n",
       "      <td>55.0</td>\n",
       "      <td>16.0</td>\n",
       "      <td>26.687500</td>\n",
       "      <td>...</td>\n",
       "      <td>187.00</td>\n",
       "      <td>205.0</td>\n",
       "      <td>16.0</td>\n",
       "      <td>5.217919e+06</td>\n",
       "      <td>4.286013e+06</td>\n",
       "      <td>700902.0</td>\n",
       "      <td>1646160.0</td>\n",
       "      <td>3402626.5</td>\n",
       "      <td>8.633373e+06</td>\n",
       "      <td>13500000.0</td>\n",
       "    </tr>\n",
       "    <tr>\n",
       "      <th>6-10</th>\n",
       "      <td>47.0</td>\n",
       "      <td>20.340426</td>\n",
       "      <td>19.036894</td>\n",
       "      <td>0.0</td>\n",
       "      <td>7.00</td>\n",
       "      <td>15.0</td>\n",
       "      <td>31.00</td>\n",
       "      <td>90.0</td>\n",
       "      <td>47.0</td>\n",
       "      <td>27.468085</td>\n",
       "      <td>...</td>\n",
       "      <td>251.00</td>\n",
       "      <td>289.0</td>\n",
       "      <td>47.0</td>\n",
       "      <td>5.185375e+06</td>\n",
       "      <td>5.063120e+06</td>\n",
       "      <td>222888.0</td>\n",
       "      <td>1054584.5</td>\n",
       "      <td>3815000.0</td>\n",
       "      <td>7.025766e+06</td>\n",
       "      <td>19689000.0</td>\n",
       "    </tr>\n",
       "    <tr>\n",
       "      <th>6-11</th>\n",
       "      <td>40.0</td>\n",
       "      <td>18.550000</td>\n",
       "      <td>15.790211</td>\n",
       "      <td>0.0</td>\n",
       "      <td>6.75</td>\n",
       "      <td>14.0</td>\n",
       "      <td>28.75</td>\n",
       "      <td>77.0</td>\n",
       "      <td>40.0</td>\n",
       "      <td>27.375000</td>\n",
       "      <td>...</td>\n",
       "      <td>261.25</td>\n",
       "      <td>307.0</td>\n",
       "      <td>40.0</td>\n",
       "      <td>6.544397e+06</td>\n",
       "      <td>6.906416e+06</td>\n",
       "      <td>245177.0</td>\n",
       "      <td>1362370.0</td>\n",
       "      <td>3107656.0</td>\n",
       "      <td>1.143804e+07</td>\n",
       "      <td>22359364.0</td>\n",
       "    </tr>\n",
       "    <tr>\n",
       "      <th>6-2</th>\n",
       "      <td>16.0</td>\n",
       "      <td>12.875000</td>\n",
       "      <td>11.887669</td>\n",
       "      <td>0.0</td>\n",
       "      <td>1.75</td>\n",
       "      <td>12.0</td>\n",
       "      <td>19.50</td>\n",
       "      <td>32.0</td>\n",
       "      <td>16.0</td>\n",
       "      <td>27.187500</td>\n",
       "      <td>...</td>\n",
       "      <td>191.25</td>\n",
       "      <td>200.0</td>\n",
       "      <td>16.0</td>\n",
       "      <td>3.523777e+06</td>\n",
       "      <td>3.631376e+06</td>\n",
       "      <td>525093.0</td>\n",
       "      <td>947276.0</td>\n",
       "      <td>1553220.0</td>\n",
       "      <td>4.882013e+06</td>\n",
       "      <td>13437500.0</td>\n",
       "    </tr>\n",
       "    <tr>\n",
       "      <th>6-3</th>\n",
       "      <td>33.0</td>\n",
       "      <td>10.818182</td>\n",
       "      <td>9.231246</td>\n",
       "      <td>0.0</td>\n",
       "      <td>3.00</td>\n",
       "      <td>8.0</td>\n",
       "      <td>19.00</td>\n",
       "      <td>34.0</td>\n",
       "      <td>33.0</td>\n",
       "      <td>28.393939</td>\n",
       "      <td>...</td>\n",
       "      <td>200.00</td>\n",
       "      <td>208.0</td>\n",
       "      <td>33.0</td>\n",
       "      <td>5.821784e+06</td>\n",
       "      <td>5.668225e+06</td>\n",
       "      <td>189455.0</td>\n",
       "      <td>1662360.0</td>\n",
       "      <td>4053446.0</td>\n",
       "      <td>8.000000e+06</td>\n",
       "      <td>20093064.0</td>\n",
       "    </tr>\n",
       "    <tr>\n",
       "      <th>6-4</th>\n",
       "      <td>29.0</td>\n",
       "      <td>13.551724</td>\n",
       "      <td>11.918132</td>\n",
       "      <td>2.0</td>\n",
       "      <td>5.00</td>\n",
       "      <td>9.0</td>\n",
       "      <td>20.00</td>\n",
       "      <td>55.0</td>\n",
       "      <td>29.0</td>\n",
       "      <td>26.172414</td>\n",
       "      <td>...</td>\n",
       "      <td>213.00</td>\n",
       "      <td>220.0</td>\n",
       "      <td>29.0</td>\n",
       "      <td>4.646163e+06</td>\n",
       "      <td>5.275308e+06</td>\n",
       "      <td>134215.0</td>\n",
       "      <td>1015421.0</td>\n",
       "      <td>2525160.0</td>\n",
       "      <td>5.192520e+06</td>\n",
       "      <td>20000000.0</td>\n",
       "    </tr>\n",
       "    <tr>\n",
       "      <th>6-5</th>\n",
       "      <td>32.0</td>\n",
       "      <td>11.312500</td>\n",
       "      <td>12.390000</td>\n",
       "      <td>0.0</td>\n",
       "      <td>3.00</td>\n",
       "      <td>5.5</td>\n",
       "      <td>17.75</td>\n",
       "      <td>55.0</td>\n",
       "      <td>32.0</td>\n",
       "      <td>25.437500</td>\n",
       "      <td>...</td>\n",
       "      <td>210.00</td>\n",
       "      <td>230.0</td>\n",
       "      <td>32.0</td>\n",
       "      <td>4.391786e+06</td>\n",
       "      <td>4.114296e+06</td>\n",
       "      <td>55722.0</td>\n",
       "      <td>1160040.0</td>\n",
       "      <td>3129420.0</td>\n",
       "      <td>6.015152e+06</td>\n",
       "      <td>16407500.0</td>\n",
       "    </tr>\n",
       "    <tr>\n",
       "      <th>6-6</th>\n",
       "      <td>42.0</td>\n",
       "      <td>14.690476</td>\n",
       "      <td>15.852196</td>\n",
       "      <td>0.0</td>\n",
       "      <td>5.25</td>\n",
       "      <td>11.0</td>\n",
       "      <td>19.75</td>\n",
       "      <td>99.0</td>\n",
       "      <td>42.0</td>\n",
       "      <td>26.190476</td>\n",
       "      <td>...</td>\n",
       "      <td>220.00</td>\n",
       "      <td>245.0</td>\n",
       "      <td>42.0</td>\n",
       "      <td>3.586813e+06</td>\n",
       "      <td>4.518975e+06</td>\n",
       "      <td>167406.0</td>\n",
       "      <td>955794.0</td>\n",
       "      <td>1903380.0</td>\n",
       "      <td>4.317674e+06</td>\n",
       "      <td>25000000.0</td>\n",
       "    </tr>\n",
       "    <tr>\n",
       "      <th>6-7</th>\n",
       "      <td>45.0</td>\n",
       "      <td>19.688889</td>\n",
       "      <td>12.491492</td>\n",
       "      <td>0.0</td>\n",
       "      <td>10.00</td>\n",
       "      <td>20.0</td>\n",
       "      <td>26.00</td>\n",
       "      <td>44.0</td>\n",
       "      <td>45.0</td>\n",
       "      <td>27.000000</td>\n",
       "      <td>...</td>\n",
       "      <td>226.00</td>\n",
       "      <td>260.0</td>\n",
       "      <td>45.0</td>\n",
       "      <td>3.504402e+06</td>\n",
       "      <td>4.337857e+06</td>\n",
       "      <td>30888.0</td>\n",
       "      <td>947276.0</td>\n",
       "      <td>1535880.0</td>\n",
       "      <td>4.000000e+06</td>\n",
       "      <td>16407500.0</td>\n",
       "    </tr>\n",
       "    <tr>\n",
       "      <th>6-8</th>\n",
       "      <td>43.0</td>\n",
       "      <td>21.302326</td>\n",
       "      <td>15.111545</td>\n",
       "      <td>1.0</td>\n",
       "      <td>6.00</td>\n",
       "      <td>22.0</td>\n",
       "      <td>33.50</td>\n",
       "      <td>55.0</td>\n",
       "      <td>43.0</td>\n",
       "      <td>26.767442</td>\n",
       "      <td>...</td>\n",
       "      <td>240.00</td>\n",
       "      <td>260.0</td>\n",
       "      <td>43.0</td>\n",
       "      <td>5.950412e+06</td>\n",
       "      <td>6.133934e+06</td>\n",
       "      <td>83397.0</td>\n",
       "      <td>1259700.0</td>\n",
       "      <td>3425510.0</td>\n",
       "      <td>9.321234e+06</td>\n",
       "      <td>22970500.0</td>\n",
       "    </tr>\n",
       "    <tr>\n",
       "      <th>6-9</th>\n",
       "      <td>59.0</td>\n",
       "      <td>22.389831</td>\n",
       "      <td>19.110402</td>\n",
       "      <td>0.0</td>\n",
       "      <td>7.50</td>\n",
       "      <td>19.0</td>\n",
       "      <td>34.00</td>\n",
       "      <td>90.0</td>\n",
       "      <td>59.0</td>\n",
       "      <td>27.220339</td>\n",
       "      <td>...</td>\n",
       "      <td>249.00</td>\n",
       "      <td>260.0</td>\n",
       "      <td>59.0</td>\n",
       "      <td>4.157787e+06</td>\n",
       "      <td>4.517154e+06</td>\n",
       "      <td>111444.0</td>\n",
       "      <td>1053814.0</td>\n",
       "      <td>2500000.0</td>\n",
       "      <td>5.250000e+06</td>\n",
       "      <td>20158622.0</td>\n",
       "    </tr>\n",
       "    <tr>\n",
       "      <th>7-0</th>\n",
       "      <td>27.0</td>\n",
       "      <td>25.370370</td>\n",
       "      <td>19.777898</td>\n",
       "      <td>0.0</td>\n",
       "      <td>11.50</td>\n",
       "      <td>21.0</td>\n",
       "      <td>40.50</td>\n",
       "      <td>92.0</td>\n",
       "      <td>27.0</td>\n",
       "      <td>26.407407</td>\n",
       "      <td>...</td>\n",
       "      <td>262.50</td>\n",
       "      <td>280.0</td>\n",
       "      <td>27.0</td>\n",
       "      <td>5.287712e+06</td>\n",
       "      <td>4.675298e+06</td>\n",
       "      <td>947276.0</td>\n",
       "      <td>2003580.0</td>\n",
       "      <td>4204200.0</td>\n",
       "      <td>7.574380e+06</td>\n",
       "      <td>19689000.0</td>\n",
       "    </tr>\n",
       "    <tr>\n",
       "      <th>7-1</th>\n",
       "      <td>7.0</td>\n",
       "      <td>16.571429</td>\n",
       "      <td>12.067272</td>\n",
       "      <td>0.0</td>\n",
       "      <td>7.50</td>\n",
       "      <td>20.0</td>\n",
       "      <td>24.00</td>\n",
       "      <td>33.0</td>\n",
       "      <td>7.0</td>\n",
       "      <td>27.142857</td>\n",
       "      <td>...</td>\n",
       "      <td>257.50</td>\n",
       "      <td>275.0</td>\n",
       "      <td>7.0</td>\n",
       "      <td>7.400988e+06</td>\n",
       "      <td>6.587462e+06</td>\n",
       "      <td>1175880.0</td>\n",
       "      <td>3441500.0</td>\n",
       "      <td>4950000.0</td>\n",
       "      <td>9.555017e+06</td>\n",
       "      <td>19688000.0</td>\n",
       "    </tr>\n",
       "    <tr>\n",
       "      <th>7-2</th>\n",
       "      <td>3.0</td>\n",
       "      <td>36.333333</td>\n",
       "      <td>17.214335</td>\n",
       "      <td>17.0</td>\n",
       "      <td>29.50</td>\n",
       "      <td>42.0</td>\n",
       "      <td>46.00</td>\n",
       "      <td>50.0</td>\n",
       "      <td>3.0</td>\n",
       "      <td>28.666667</td>\n",
       "      <td>...</td>\n",
       "      <td>259.00</td>\n",
       "      <td>270.0</td>\n",
       "      <td>3.0</td>\n",
       "      <td>6.835639e+06</td>\n",
       "      <td>7.825718e+06</td>\n",
       "      <td>525093.0</td>\n",
       "      <td>2457350.0</td>\n",
       "      <td>4389607.0</td>\n",
       "      <td>9.990912e+06</td>\n",
       "      <td>15592217.0</td>\n",
       "    </tr>\n",
       "    <tr>\n",
       "      <th>7-3</th>\n",
       "      <td>4.0</td>\n",
       "      <td>22.250000</td>\n",
       "      <td>13.913423</td>\n",
       "      <td>6.0</td>\n",
       "      <td>17.25</td>\n",
       "      <td>21.5</td>\n",
       "      <td>26.50</td>\n",
       "      <td>40.0</td>\n",
       "      <td>4.0</td>\n",
       "      <td>24.250000</td>\n",
       "      <td>...</td>\n",
       "      <td>267.50</td>\n",
       "      <td>290.0</td>\n",
       "      <td>4.0</td>\n",
       "      <td>2.307930e+06</td>\n",
       "      <td>1.484918e+06</td>\n",
       "      <td>1000000.0</td>\n",
       "      <td>1150000.0</td>\n",
       "      <td>2050000.0</td>\n",
       "      <td>3.207930e+06</td>\n",
       "      <td>4131720.0</td>\n",
       "    </tr>\n",
       "  </tbody>\n",
       "</table>\n",
       "<p>18 rows × 32 columns</p>\n",
       "</div>"
      ],
      "text/plain": [
       "       Number                                                         Age  \\\n",
       "        count       mean        std   min    25%   50%    75%   max count   \n",
       "Height                                                                      \n",
       "5-11      3.0  11.666667  12.583057   0.0   5.00  10.0  17.50  25.0   3.0   \n",
       "5-9       1.0   4.000000        NaN   4.0   4.00   4.0   4.00   4.0   1.0   \n",
       "6-0      10.0   4.400000   4.060651   0.0   1.00   4.0   7.00  12.0  10.0   \n",
       "6-1      16.0  15.062500  16.794716   2.0   2.00  10.0  18.50  55.0  16.0   \n",
       "6-10     47.0  20.340426  19.036894   0.0   7.00  15.0  31.00  90.0  47.0   \n",
       "6-11     40.0  18.550000  15.790211   0.0   6.75  14.0  28.75  77.0  40.0   \n",
       "6-2      16.0  12.875000  11.887669   0.0   1.75  12.0  19.50  32.0  16.0   \n",
       "6-3      33.0  10.818182   9.231246   0.0   3.00   8.0  19.00  34.0  33.0   \n",
       "6-4      29.0  13.551724  11.918132   2.0   5.00   9.0  20.00  55.0  29.0   \n",
       "6-5      32.0  11.312500  12.390000   0.0   3.00   5.5  17.75  55.0  32.0   \n",
       "6-6      42.0  14.690476  15.852196   0.0   5.25  11.0  19.75  99.0  42.0   \n",
       "6-7      45.0  19.688889  12.491492   0.0  10.00  20.0  26.00  44.0  45.0   \n",
       "6-8      43.0  21.302326  15.111545   1.0   6.00  22.0  33.50  55.0  43.0   \n",
       "6-9      59.0  22.389831  19.110402   0.0   7.50  19.0  34.00  90.0  59.0   \n",
       "7-0      27.0  25.370370  19.777898   0.0  11.50  21.0  40.50  92.0  27.0   \n",
       "7-1       7.0  16.571429  12.067272   0.0   7.50  20.0  24.00  33.0   7.0   \n",
       "7-2       3.0  36.333333  17.214335  17.0  29.50  42.0  46.00  50.0   3.0   \n",
       "7-3       4.0  22.250000  13.913423   6.0  17.25  21.5  26.50  40.0   4.0   \n",
       "\n",
       "                   ...  Weight        Salary                              \\\n",
       "             mean  ...     75%    max  count          mean           std   \n",
       "Height             ...                                                     \n",
       "5-11    25.333333  ...  185.00  195.0    3.0  5.891553e+05  7.926627e+05   \n",
       "5-9     27.000000  ...  185.00  185.0    1.0  6.912869e+06           NaN   \n",
       "6-0     29.200000  ...  188.75  205.0   10.0  5.784075e+06  6.337144e+06   \n",
       "6-1     26.687500  ...  187.00  205.0   16.0  5.217919e+06  4.286013e+06   \n",
       "6-10    27.468085  ...  251.00  289.0   47.0  5.185375e+06  5.063120e+06   \n",
       "6-11    27.375000  ...  261.25  307.0   40.0  6.544397e+06  6.906416e+06   \n",
       "6-2     27.187500  ...  191.25  200.0   16.0  3.523777e+06  3.631376e+06   \n",
       "6-3     28.393939  ...  200.00  208.0   33.0  5.821784e+06  5.668225e+06   \n",
       "6-4     26.172414  ...  213.00  220.0   29.0  4.646163e+06  5.275308e+06   \n",
       "6-5     25.437500  ...  210.00  230.0   32.0  4.391786e+06  4.114296e+06   \n",
       "6-6     26.190476  ...  220.00  245.0   42.0  3.586813e+06  4.518975e+06   \n",
       "6-7     27.000000  ...  226.00  260.0   45.0  3.504402e+06  4.337857e+06   \n",
       "6-8     26.767442  ...  240.00  260.0   43.0  5.950412e+06  6.133934e+06   \n",
       "6-9     27.220339  ...  249.00  260.0   59.0  4.157787e+06  4.517154e+06   \n",
       "7-0     26.407407  ...  262.50  280.0   27.0  5.287712e+06  4.675298e+06   \n",
       "7-1     27.142857  ...  257.50  275.0    7.0  7.400988e+06  6.587462e+06   \n",
       "7-2     28.666667  ...  259.00  270.0    3.0  6.835639e+06  7.825718e+06   \n",
       "7-3     24.250000  ...  267.50  290.0    4.0  2.307930e+06  1.484918e+06   \n",
       "\n",
       "                                                                   \n",
       "              min        25%        50%           75%         max  \n",
       "Height                                                             \n",
       "5-11      55722.0   133733.0   211744.0  8.558720e+05   1500000.0  \n",
       "5-9     6912869.0  6912869.0  6912869.0  6.912869e+06   6912869.0  \n",
       "6-0      947276.0  2437500.0  3934473.5  4.846419e+06  21468695.0  \n",
       "6-1      700902.0  1646160.0  3402626.5  8.633373e+06  13500000.0  \n",
       "6-10     222888.0  1054584.5  3815000.0  7.025766e+06  19689000.0  \n",
       "6-11     245177.0  1362370.0  3107656.0  1.143804e+07  22359364.0  \n",
       "6-2      525093.0   947276.0  1553220.0  4.882013e+06  13437500.0  \n",
       "6-3      189455.0  1662360.0  4053446.0  8.000000e+06  20093064.0  \n",
       "6-4      134215.0  1015421.0  2525160.0  5.192520e+06  20000000.0  \n",
       "6-5       55722.0  1160040.0  3129420.0  6.015152e+06  16407500.0  \n",
       "6-6      167406.0   955794.0  1903380.0  4.317674e+06  25000000.0  \n",
       "6-7       30888.0   947276.0  1535880.0  4.000000e+06  16407500.0  \n",
       "6-8       83397.0  1259700.0  3425510.0  9.321234e+06  22970500.0  \n",
       "6-9      111444.0  1053814.0  2500000.0  5.250000e+06  20158622.0  \n",
       "7-0      947276.0  2003580.0  4204200.0  7.574380e+06  19689000.0  \n",
       "7-1     1175880.0  3441500.0  4950000.0  9.555017e+06  19688000.0  \n",
       "7-2      525093.0  2457350.0  4389607.0  9.990912e+06  15592217.0  \n",
       "7-3     1000000.0  1150000.0  2050000.0  3.207930e+06   4131720.0  \n",
       "\n",
       "[18 rows x 32 columns]"
      ]
     },
     "execution_count": 39,
     "metadata": {},
     "output_type": "execute_result"
    }
   ],
   "source": [
    "groupedHeights.describe()"
   ]
  },
  {
   "cell_type": "code",
   "execution_count": 47,
   "metadata": {},
   "outputs": [
    {
     "data": {
      "text/plain": [
       "24.0    47\n",
       "25.0    45\n",
       "27.0    41\n",
       "23.0    41\n",
       "26.0    36\n",
       "28.0    31\n",
       "30.0    31\n",
       "29.0    28\n",
       "22.0    26\n",
       "31.0    22\n",
       "20.0    19\n",
       "21.0    19\n",
       "33.0    14\n",
       "32.0    13\n",
       "34.0    10\n",
       "36.0    10\n",
       "35.0     9\n",
       "37.0     4\n",
       "38.0     4\n",
       "40.0     3\n",
       "39.0     2\n",
       "19.0     2\n",
       "Name: Age, dtype: int64"
      ]
     },
     "execution_count": 47,
     "metadata": {},
     "output_type": "execute_result"
    }
   ],
   "source": [
    "data.Age.value_counts()"
   ]
  },
  {
   "cell_type": "code",
   "execution_count": 49,
   "metadata": {},
   "outputs": [
    {
     "data": {
      "text/plain": [
       "25-30    212\n",
       "19-24    154\n",
       "31-35     68\n",
       "36-40     20\n",
       "Name: AgeGroup, dtype: int64"
      ]
     },
     "execution_count": 49,
     "metadata": {},
     "output_type": "execute_result"
    }
   ],
   "source": [
    "bins = [19, 25, 31, 36, 40]\n",
    "labels = ['19-24', '25-30', '31-35', '36-40']\n",
    "data['AgeGroup'] = pd.cut(data['Age'], bins = bins, labels = labels, right=False)\n",
    "data['AgeGroup'].value_counts()"
   ]
  },
  {
   "cell_type": "code",
   "execution_count": 52,
   "metadata": {},
   "outputs": [
    {
     "data": {
      "image/png": "[encoded data removed]",
      "text/plain": [
       "<Figure size 432x288 with 1 Axes>"
      ]
     },
     "metadata": {
      "needs_background": "light"
     },
     "output_type": "display_data"
    }
   ],
   "source": [
    "plt.bar(data['AgeGroup'].value_counts().index , data['AgeGroup'].value_counts(),  data = data)\n",
    "plt.xlabel(\"Age Group\")\n",
    "plt.xticks(rotation = 90)\n",
    "plt.ylabel(\"Count\")\n",
    "plt.title(\"Group Wise Age Distribution\")\n",
    "plt.show()"
   ]
  },
  {
   "cell_type": "code",
   "execution_count": 53,
   "metadata": {},
   "outputs": [
    {
     "data": {
      "text/plain": [
       "AgeGroup\n",
       "19-24    2.761705e+06\n",
       "25-30    5.870999e+06\n",
       "31-35    6.635271e+06\n",
       "36-40    3.897656e+06\n",
       "Name: Salary, dtype: float64"
      ]
     },
     "execution_count": 53,
     "metadata": {},
     "output_type": "execute_result"
    }
   ],
   "source": [
    "data.groupby('AgeGroup')['Salary'].mean()"
   ]
  },
  {
   "cell_type": "code",
   "execution_count": 54,
   "metadata": {},
   "outputs": [
    {
     "data": {
      "text/plain": [
       "AgeGroup\n",
       "19-24    1.721380e+06\n",
       "25-30    4.025000e+06\n",
       "31-35    4.671342e+06\n",
       "36-40    2.834470e+06\n",
       "Name: Salary, dtype: float64"
      ]
     },
     "execution_count": 54,
     "metadata": {},
     "output_type": "execute_result"
    }
   ],
   "source": [
    "data.groupby('AgeGroup')['Salary'].median()"
   ]
  },
  {
   "cell_type": "code",
   "execution_count": 55,
   "metadata": {},
   "outputs": [],
   "source": [
    "listOfSalaries = list(data.groupby('AgeGroup')['Salary'])"
   ]
  },
  {
   "cell_type": "code",
   "execution_count": 56,
   "metadata": {},
   "outputs": [
    {
     "data": {
      "text/plain": [
       "[('19-24',\n",
       "  3       1148640.0\n",
       "  6       1170960.0\n",
       "  8       1824360.0\n",
       "  9       3431040.0\n",
       "  10      2569260.0\n",
       "            ...    \n",
       "  446    12000000.0\n",
       "  447     1175880.0\n",
       "  449     1348440.0\n",
       "  452     2239800.0\n",
       "  454      900000.0\n",
       "  Name: Salary, Length: 154, dtype: float64),\n",
       " ('25-30',\n",
       "  0      7.730337e+06\n",
       "  1      6.796117e+06\n",
       "  2      4.842684e+06\n",
       "  4      5.000000e+06\n",
       "  5      1.200000e+07\n",
       "             ...     \n",
       "  450    2.050000e+06\n",
       "  451    9.813480e+05\n",
       "  453    2.433333e+06\n",
       "  455    2.900000e+06\n",
       "  456    9.472760e+05\n",
       "  Name: Salary, Length: 212, dtype: float64),\n",
       " ('31-35',\n",
       "  19      6300000.0\n",
       "  31      1635476.0\n",
       "  33     22875000.0\n",
       "  34      7402812.0\n",
       "  43       947276.0\n",
       "            ...    \n",
       "  375    13000000.0\n",
       "  394     4345000.0\n",
       "  413     3750000.0\n",
       "  415     3135000.0\n",
       "  434     5016000.0\n",
       "  Name: Salary, Length: 68, dtype: float64),\n",
       " ('36-40',\n",
       "  46     4.842684e+06\n",
       "  72     2.900000e+06\n",
       "  93     5.675000e+06\n",
       "  101    3.376000e+06\n",
       "  102    9.477260e+05\n",
       "  109    2.500000e+07\n",
       "  119    9.472760e+05\n",
       "  139    1.449187e+06\n",
       "  183    2.170465e+06\n",
       "  236    8.333334e+06\n",
       "  256    9.472760e+05\n",
       "  259    5.000000e+06\n",
       "  260    3.542500e+06\n",
       "  261    4.088019e+06\n",
       "  296    9.472760e+05\n",
       "  299    2.814000e+06\n",
       "  343    2.854940e+06\n",
       "  392    9.472760e+05\n",
       "  406    9.472760e+05\n",
       "  420    2.228880e+05\n",
       "  Name: Salary, dtype: float64)]"
      ]
     },
     "execution_count": 56,
     "metadata": {},
     "output_type": "execute_result"
    }
   ],
   "source": [
    "listOfSalaries"
   ]
  },
  {
   "cell_type": "markdown",
   "metadata": {},
   "source": [
    "### Part 2: IRIS database"
   ]
  },
  {
   "cell_type": "code",
   "execution_count": 57,
   "metadata": {},
   "outputs": [
    {
     "data": {
      "text/html": [
       "<div>\n",
       "<style scoped>\n",
       "    .dataframe tbody tr th:only-of-type {\n",
       "        vertical-align: middle;\n",
       "    }\n",
       "\n",
       "    .dataframe tbody tr th {\n",
       "        vertical-align: top;\n",
       "    }\n",
       "\n",
       "    .dataframe thead th {\n",
       "        text-align: right;\n",
       "    }\n",
       "</style>\n",
       "<table border=\"1\" class=\"dataframe\">\n",
       "  <thead>\n",
       "    <tr style=\"text-align: right;\">\n",
       "      <th></th>\n",
       "      <th>Id</th>\n",
       "      <th>SepalLengthCm</th>\n",
       "      <th>SepalWidthCm</th>\n",
       "      <th>PetalLengthCm</th>\n",
       "      <th>PetalWidthCm</th>\n",
       "      <th>Species</th>\n",
       "    </tr>\n",
       "  </thead>\n",
       "  <tbody>\n",
       "    <tr>\n",
       "      <th>0</th>\n",
       "      <td>1</td>\n",
       "      <td>5.1</td>\n",
       "      <td>3.5</td>\n",
       "      <td>1.4</td>\n",
       "      <td>0.2</td>\n",
       "      <td>Iris-setosa</td>\n",
       "    </tr>\n",
       "    <tr>\n",
       "      <th>1</th>\n",
       "      <td>2</td>\n",
       "      <td>4.9</td>\n",
       "      <td>3.0</td>\n",
       "      <td>1.4</td>\n",
       "      <td>0.2</td>\n",
       "      <td>Iris-setosa</td>\n",
       "    </tr>\n",
       "    <tr>\n",
       "      <th>2</th>\n",
       "      <td>3</td>\n",
       "      <td>4.7</td>\n",
       "      <td>3.2</td>\n",
       "      <td>1.3</td>\n",
       "      <td>0.2</td>\n",
       "      <td>Iris-setosa</td>\n",
       "    </tr>\n",
       "    <tr>\n",
       "      <th>3</th>\n",
       "      <td>4</td>\n",
       "      <td>4.6</td>\n",
       "      <td>3.1</td>\n",
       "      <td>1.5</td>\n",
       "      <td>0.2</td>\n",
       "      <td>Iris-setosa</td>\n",
       "    </tr>\n",
       "    <tr>\n",
       "      <th>4</th>\n",
       "      <td>5</td>\n",
       "      <td>5.0</td>\n",
       "      <td>3.6</td>\n",
       "      <td>1.4</td>\n",
       "      <td>0.2</td>\n",
       "      <td>Iris-setosa</td>\n",
       "    </tr>\n",
       "  </tbody>\n",
       "</table>\n",
       "</div>"
      ],
      "text/plain": [
       "   Id  SepalLengthCm  SepalWidthCm  PetalLengthCm  PetalWidthCm      Species\n",
       "0   1            5.1           3.5            1.4           0.2  Iris-setosa\n",
       "1   2            4.9           3.0            1.4           0.2  Iris-setosa\n",
       "2   3            4.7           3.2            1.3           0.2  Iris-setosa\n",
       "3   4            4.6           3.1            1.5           0.2  Iris-setosa\n",
       "4   5            5.0           3.6            1.4           0.2  Iris-setosa"
      ]
     },
     "execution_count": 57,
     "metadata": {},
     "output_type": "execute_result"
    }
   ],
   "source": [
    "df2 = pd.read_csv(\"datasets/Iris.csv\")\n",
    "df2.head()"
   ]
  },
  {
   "cell_type": "code",
   "execution_count": 58,
   "metadata": {},
   "outputs": [
    {
     "data": {
      "text/html": [
       "<div>\n",
       "<style scoped>\n",
       "    .dataframe tbody tr th:only-of-type {\n",
       "        vertical-align: middle;\n",
       "    }\n",
       "\n",
       "    .dataframe tbody tr th {\n",
       "        vertical-align: top;\n",
       "    }\n",
       "\n",
       "    .dataframe thead th {\n",
       "        text-align: right;\n",
       "    }\n",
       "</style>\n",
       "<table border=\"1\" class=\"dataframe\">\n",
       "  <thead>\n",
       "    <tr style=\"text-align: right;\">\n",
       "      <th></th>\n",
       "      <th>Id</th>\n",
       "      <th>SepalLengthCm</th>\n",
       "      <th>SepalWidthCm</th>\n",
       "      <th>PetalLengthCm</th>\n",
       "      <th>PetalWidthCm</th>\n",
       "      <th>Species</th>\n",
       "    </tr>\n",
       "  </thead>\n",
       "  <tbody>\n",
       "    <tr>\n",
       "      <th>0</th>\n",
       "      <td>1</td>\n",
       "      <td>5.1</td>\n",
       "      <td>3.5</td>\n",
       "      <td>1.4</td>\n",
       "      <td>0.2</td>\n",
       "      <td>Iris-setosa</td>\n",
       "    </tr>\n",
       "    <tr>\n",
       "      <th>1</th>\n",
       "      <td>2</td>\n",
       "      <td>4.9</td>\n",
       "      <td>3.0</td>\n",
       "      <td>1.4</td>\n",
       "      <td>0.2</td>\n",
       "      <td>Iris-setosa</td>\n",
       "    </tr>\n",
       "    <tr>\n",
       "      <th>2</th>\n",
       "      <td>3</td>\n",
       "      <td>4.7</td>\n",
       "      <td>3.2</td>\n",
       "      <td>1.3</td>\n",
       "      <td>0.2</td>\n",
       "      <td>Iris-setosa</td>\n",
       "    </tr>\n",
       "    <tr>\n",
       "      <th>3</th>\n",
       "      <td>4</td>\n",
       "      <td>4.6</td>\n",
       "      <td>3.1</td>\n",
       "      <td>1.5</td>\n",
       "      <td>0.2</td>\n",
       "      <td>Iris-setosa</td>\n",
       "    </tr>\n",
       "    <tr>\n",
       "      <th>4</th>\n",
       "      <td>5</td>\n",
       "      <td>5.0</td>\n",
       "      <td>3.6</td>\n",
       "      <td>1.4</td>\n",
       "      <td>0.2</td>\n",
       "      <td>Iris-setosa</td>\n",
       "    </tr>\n",
       "  </tbody>\n",
       "</table>\n",
       "</div>"
      ],
      "text/plain": [
       "   Id  SepalLengthCm  SepalWidthCm  PetalLengthCm  PetalWidthCm      Species\n",
       "0   1            5.1           3.5            1.4           0.2  Iris-setosa\n",
       "1   2            4.9           3.0            1.4           0.2  Iris-setosa\n",
       "2   3            4.7           3.2            1.3           0.2  Iris-setosa\n",
       "3   4            4.6           3.1            1.5           0.2  Iris-setosa\n",
       "4   5            5.0           3.6            1.4           0.2  Iris-setosa"
      ]
     },
     "execution_count": 58,
     "metadata": {},
     "output_type": "execute_result"
    }
   ],
   "source": [
    "df2.head()"
   ]
  },
  {
   "cell_type": "code",
   "execution_count": 60,
   "metadata": {},
   "outputs": [
    {
     "data": {
      "text/plain": [
       "(150, 6)"
      ]
     },
     "execution_count": 60,
     "metadata": {},
     "output_type": "execute_result"
    }
   ],
   "source": [
    "df2.shape"
   ]
  },
  {
   "cell_type": "code",
   "execution_count": 61,
   "metadata": {},
   "outputs": [
    {
     "data": {
      "text/plain": [
       "array(['Iris-setosa', 'Iris-versicolor', 'Iris-virginica'], dtype=object)"
      ]
     },
     "execution_count": 61,
     "metadata": {},
     "output_type": "execute_result"
    }
   ],
   "source": [
    "df2[\"Species\"].unique()"
   ]
  },
  {
   "cell_type": "code",
   "execution_count": 62,
   "metadata": {
    "scrolled": true
   },
   "outputs": [
    {
     "data": {
      "image/png": "[encoded data removed]",
      "text/plain": [
       "<Figure size 504x504 with 1 Axes>"
      ]
     },
     "metadata": {},
     "output_type": "display_data"
    }
   ],
   "source": [
    "labels = ['Iris-setosa', 'Iris-versicolor', 'Iris-virginica']\n",
    "size = df2['Species'].value_counts()\n",
    "\n",
    "plt.rcParams['figure.figsize'] = (7, 7)\n",
    "plt.pie(size, labels = labels, shadow = False, autopct = '%.2f%%')\n",
    "plt.title('Iris Species', fontsize = 20)\n",
    "plt.legend()\n",
    "plt.show()"
   ]
  },
  {
   "cell_type": "markdown",
   "metadata": {},
   "source": [
    "### Mean values for each species"
   ]
  },
  {
   "cell_type": "code",
   "execution_count": 63,
   "metadata": {
    "scrolled": true
   },
   "outputs": [
    {
     "name": "stdout",
     "output_type": "stream",
     "text": [
      "                 SepalLengthCm  SepalWidthCm  PetalLengthCm  PetalWidthCm\n",
      "Species                                                                  \n",
      "Iris-setosa              5.006         3.418          1.464         0.244\n",
      "Iris-versicolor          5.936         2.770          4.260         1.326\n",
      "Iris-virginica           6.588         2.974          5.552         2.026\n"
     ]
    }
   ],
   "source": [
    "print(df2.groupby([\"Species\"]).agg(lambda x:x.mean())[[\"SepalLengthCm\", \"SepalWidthCm\", \"PetalLengthCm\", \"PetalWidthCm\"]])"
   ]
  },
  {
   "cell_type": "markdown",
   "metadata": {},
   "source": [
    "### Median values for each species"
   ]
  },
  {
   "cell_type": "code",
   "execution_count": 64,
   "metadata": {
    "scrolled": true
   },
   "outputs": [
    {
     "name": "stdout",
     "output_type": "stream",
     "text": [
      "                 SepalLengthCm  SepalWidthCm  PetalLengthCm  PetalWidthCm\n",
      "Species                                                                  \n",
      "Iris-setosa                5.0           3.4           1.50           0.2\n",
      "Iris-versicolor            5.9           2.8           4.35           1.3\n",
      "Iris-virginica             6.5           3.0           5.55           2.0\n"
     ]
    }
   ],
   "source": [
    "print(df2.groupby([\"Species\"]).agg(lambda x:x.median())[[\"SepalLengthCm\", \"SepalWidthCm\", \"PetalLengthCm\", \"PetalWidthCm\"]])"
   ]
  },
  {
   "cell_type": "markdown",
   "metadata": {},
   "source": [
    "### SD values for each species"
   ]
  },
  {
   "cell_type": "code",
   "execution_count": 65,
   "metadata": {
    "scrolled": true
   },
   "outputs": [
    {
     "name": "stdout",
     "output_type": "stream",
     "text": [
      "                 SepalLengthCm  SepalWidthCm  PetalLengthCm  PetalWidthCm\n",
      "Species                                                                  \n",
      "Iris-setosa           0.352490      0.381024       0.173511      0.107210\n",
      "Iris-versicolor       0.516171      0.313798       0.469911      0.197753\n",
      "Iris-virginica        0.635880      0.322497       0.551895      0.274650\n"
     ]
    }
   ],
   "source": [
    "print(df2.groupby([\"Species\"]).agg(lambda x:x.std())[[\"SepalLengthCm\", \"SepalWidthCm\", \"PetalLengthCm\", \"PetalWidthCm\"]])"
   ]
  },
  {
   "cell_type": "markdown",
   "metadata": {},
   "source": [
    "### Mode values for each species"
   ]
  },
  {
   "cell_type": "code",
   "execution_count": 66,
   "metadata": {},
   "outputs": [
    {
     "name": "stdout",
     "output_type": "stream",
     "text": [
      "                 SepalLengthCm  SepalWidthCm  PetalLengthCm  PetalWidthCm\n",
      "Species                                                                  \n",
      "Iris-setosa                5.1           3.4            1.5           0.2\n",
      "Iris-versicolor            5.5           3.0            4.5           1.3\n",
      "Iris-virginica             6.3           3.0            5.1           1.8\n"
     ]
    }
   ],
   "source": [
    "print(df2.groupby([\"Species\"]).agg(lambda x:x.value_counts().index[0])[[\"SepalLengthCm\", \"SepalWidthCm\", \"PetalLengthCm\", \"PetalWidthCm\"]])"
   ]
  },
  {
   "cell_type": "code",
   "execution_count": null,
   "metadata": {},
   "outputs": [],
   "source": []
  }
 ],
 "metadata": {
  "kernelspec": {
   "display_name": "Python 3",
   "language": "python",
   "name": "python3"
  },
  "language_info": {
   "codemirror_mode": {
    "name": "ipython",
    "version": 3
   },
   "file_extension": ".py",
   "mimetype": "text/x-python",
   "name": "python",
   "nbconvert_exporter": "python",
   "pygments_lexer": "ipython3",
   "version": "3.8.10"
  }
 },
 "nbformat": 4,
 "nbformat_minor": 4
}
