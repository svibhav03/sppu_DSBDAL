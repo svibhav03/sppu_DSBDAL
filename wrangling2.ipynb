{
 "cells": [
  {
   "cell_type": "code",
   "execution_count": null,
   "metadata": {},
   "outputs": [],
   "source": [
    "# Data Wrangling II\n",
    "# Create an \"Academic performance\" dataset of students and perform the following operations using Python.\n",
    "# 1. Scan allvariables for missing values and inconsistencies. If there are missing values and/or inconsistencies, use any of the suitable techniques to deal withthem.\n",
    "# 2. Scan all numeric variables for outliers. If there are outliers, use any of the suitable techniques to deal withthem.\n",
    "# 3. Apply data transformations on at least one of the variables. The purpose of this transformation should be one of the following reasons: to change the scale for better understanding of the variable, to convert a non-linear relation into a linear one, or to decrease the skewness and convert the distribution into a normaldistribution.\n",
    "# Reason and document your approach properly."
   ]
  },
  {
   "cell_type": "code",
   "execution_count": 1,
   "metadata": {},
   "outputs": [],
   "source": [
    "# Import libraries\n",
    "import numpy as np\n",
    "import pandas as pd"
   ]
  },
  {
   "cell_type": "code",
   "execution_count": 2,
   "metadata": {},
   "outputs": [],
   "source": [
    "# Load the dataset\n",
    "dataset = pd.read_csv(\"StudentsPerformance_modified.csv\")"
   ]
  },
  {
   "cell_type": "code",
   "execution_count": 3,
   "metadata": {},
   "outputs": [
    {
     "name": "stdout",
     "output_type": "stream",
     "text": [
      "   gender race/ethnicity parental level of education         lunch  \\\n",
      "0  female        group B           bachelor's degree      standard   \n",
      "1  female        group C                some college      standard   \n",
      "2  female        group B             master's degree      standard   \n",
      "3    male        group A          associate's degree  free/reduced   \n",
      "4    male        group C                some college      standard   \n",
      "\n",
      "  test preparation course math score  reading score  writing score  \n",
      "0                    none         72           72.0           74.0  \n",
      "1               completed         69           90.0           88.0  \n",
      "2                    none         90           95.0           93.0  \n",
      "3                    none         47           57.0           44.0  \n",
      "4                    none         76           78.0           75.0  \n",
      "----------------------------------------------------------------------------------------------------\n",
      "<class 'pandas.core.frame.DataFrame'>\n",
      "RangeIndex: 1000 entries, 0 to 999\n",
      "Data columns (total 8 columns):\n",
      " #   Column                       Non-Null Count  Dtype  \n",
      "---  ------                       --------------  -----  \n",
      " 0   gender                       1000 non-null   object \n",
      " 1   race/ethnicity               1000 non-null   object \n",
      " 2   parental level of education  1000 non-null   object \n",
      " 3   lunch                        1000 non-null   object \n",
      " 4   test preparation course      1000 non-null   object \n",
      " 5   math score                   992 non-null    object \n",
      " 6   reading score                994 non-null    float64\n",
      " 7   writing score                991 non-null    float64\n",
      "dtypes: float64(2), object(6)\n",
      "memory usage: 62.6+ KB\n",
      "None\n",
      "----------------------------------------------------------------------------------------------------\n",
      "       reading score  writing score\n",
      "count     994.000000     991.000000\n",
      "mean       68.008048      69.487386\n",
      "std        16.602270      29.563757\n",
      "min         3.000000      10.000000\n",
      "25%        58.000000      57.000000\n",
      "50%        69.500000      69.000000\n",
      "75%        79.000000      79.000000\n",
      "max       100.000000     567.000000\n",
      "----------------------------------------------------------------------------------------------------\n",
      "gender                         0\n",
      "race/ethnicity                 0\n",
      "parental level of education    0\n",
      "lunch                          0\n",
      "test preparation course        0\n",
      "math score                     8\n",
      "reading score                  6\n",
      "writing score                  9\n",
      "dtype: int64\n",
      "----------------------------------------------------------------------------------------------------\n",
      "gender                          object\n",
      "race/ethnicity                  object\n",
      "parental level of education     object\n",
      "lunch                           object\n",
      "test preparation course         object\n",
      "math score                      object\n",
      "reading score                  float64\n",
      "writing score                  float64\n",
      "dtype: object\n",
      "----------------------------------------------------------------------------------------------------\n"
     ]
    }
   ],
   "source": [
    "# Display the first 5 rows of the dataset\n",
    "print(dataset.head())\n",
    "print(\"-\" * 100)\n",
    "\n",
    "# Display the information of the dataset\n",
    "print(dataset.info())\n",
    "print(\"-\" * 100)\n",
    "\n",
    "# Display the summary statistics of the dataset\n",
    "print(dataset.describe())\n",
    "print(\"-\" * 100)\n",
    "\n",
    "# Display the number of missing values in the dataset\n",
    "print(dataset.isnull().sum())\n",
    "print(\"-\" * 100)\n",
    "\n",
    "# Display the data types of the variables in the dataset\n",
    "print(dataset.dtypes)\n",
    "print(\"-\" * 100)"
   ]
  },
  {
   "cell_type": "code",
   "execution_count": 4,
   "metadata": {},
   "outputs": [
    {
     "data": {
      "text/plain": [
       "gender                          object\n",
       "race/ethnicity                  object\n",
       "parental level of education     object\n",
       "lunch                           object\n",
       "test preparation course         object\n",
       "math score                     float64\n",
       "reading score                  float64\n",
       "writing score                  float64\n",
       "dtype: object"
      ]
     },
     "execution_count": 4,
     "metadata": {},
     "output_type": "execute_result"
    }
   ],
   "source": [
    "# As we can see the datatype of math score is object, we need to convert it to float\n",
    "# dataset[\"math score\"] = dataset[\"math score\"].astype(float) # This will throw an error as the data consists of '?' values\n",
    "\n",
    "# Replace '?' with NaN\n",
    "dataset[\"math score\"] = dataset[\"math score\"].replace(\"?\", np.nan)\n",
    "\n",
    "# Convert the datatype of math score to float\n",
    "dataset[\"math score\"] = dataset[\"math score\"].astype(float)\n",
    "\n",
    "dataset.dtypes"
   ]
  },
  {
   "cell_type": "code",
   "execution_count": 5,
   "metadata": {},
   "outputs": [
    {
     "name": "stdout",
     "output_type": "stream",
     "text": [
      "<class 'pandas.core.frame.DataFrame'>\n",
      "Index: 943 entries, 0 to 999\n",
      "Data columns (total 8 columns):\n",
      " #   Column                       Non-Null Count  Dtype  \n",
      "---  ------                       --------------  -----  \n",
      " 0   gender                       943 non-null    object \n",
      " 1   race/ethnicity               943 non-null    object \n",
      " 2   parental level of education  943 non-null    object \n",
      " 3   lunch                        943 non-null    object \n",
      " 4   test preparation course      943 non-null    object \n",
      " 5   math score                   943 non-null    float64\n",
      " 6   reading score                943 non-null    float64\n",
      " 7   writing score                943 non-null    float64\n",
      "dtypes: float64(3), object(5)\n",
      "memory usage: 66.3+ KB\n",
      "<class 'pandas.core.frame.DataFrame'>\n",
      "RangeIndex: 1000 entries, 0 to 999\n",
      "Data columns (total 8 columns):\n",
      " #   Column                       Non-Null Count  Dtype  \n",
      "---  ------                       --------------  -----  \n",
      " 0   gender                       1000 non-null   object \n",
      " 1   race/ethnicity               1000 non-null   object \n",
      " 2   parental level of education  1000 non-null   object \n",
      " 3   lunch                        1000 non-null   object \n",
      " 4   test preparation course      1000 non-null   object \n",
      " 5   math score                   1000 non-null   float64\n",
      " 6   reading score                1000 non-null   float64\n",
      " 7   writing score                1000 non-null   float64\n",
      "dtypes: float64(3), object(5)\n",
      "memory usage: 62.6+ KB\n"
     ]
    }
   ],
   "source": [
    "# Dealing with missing values:\n",
    "\n",
    "#dropna(): Drops rows or columns containing missing values.\n",
    "#fillna(): Fills missing values with specified methods or values.\n",
    "\n",
    "test = dataset.dropna()\n",
    "test.info()\n",
    "\n",
    "# dataset.dropna(inplace=True) # Drop rows with missing values inplace in the original dataset\n",
    "\n",
    "\n",
    "# Fill missing values with the mean of the column\n",
    "dataset[\"math score\"] = dataset[\"math score\"].fillna(dataset[\"math score\"].mean())\n",
    "\n",
    "# Fill missing values with the median of the column\n",
    "dataset[\"reading score\"] = dataset[\"reading score\"].fillna(dataset[\"reading score\"].median())\n",
    "\n",
    "# Fill missing values with the mode of the column\n",
    "dataset[\"writing score\"] = dataset[\"writing score\"].fillna(dataset[\"writing score\"].mode()[0])\n",
    "\n",
    "dataset.info()"
   ]
  },
  {
   "cell_type": "code",
   "execution_count": 6,
   "metadata": {},
   "outputs": [
    {
     "data": {
      "image/png": "[encoded data removed]",
      "text/plain": [
       "<Figure size 640x480 with 1 Axes>"
      ]
     },
     "metadata": {},
     "output_type": "display_data"
    },
    {
     "data": {
      "image/png": "[encoded data removed]",
      "text/plain": [
       "<Figure size 640x480 with 1 Axes>"
      ]
     },
     "metadata": {},
     "output_type": "display_data"
    },
    {
     "data": {
      "image/png": "[encoded data removed]",
      "text/plain": [
       "<Figure size 640x480 with 1 Axes>"
      ]
     },
     "metadata": {},
     "output_type": "display_data"
    }
   ],
   "source": [
    "# Outlier Detection:\n",
    "# Outliers are extreme values that deviate from other observations in the dataset. They may indicate a variability in a measurement, experimental errors, or a novelty. Outliers can have a disproportionate effect on statistical analysis, which can lead to misleading interpretations. Therefore, it is important to detect and deal with outliers in the dataset.\n",
    "\n",
    "# For visualizing outliers, we can use library like seaborn to create boxplots. \n",
    "# Seaborn is built on top of Matplotlib and provides a high-level interface for drawing attractive and informative statistical graphics. \n",
    "\n",
    "# Boxplot\n",
    "import seaborn as sns\n",
    "import matplotlib.pyplot as plt\n",
    "\n",
    "sns.boxplot(x=dataset[\"math score\"])\n",
    "plt.show()\n",
    "\n",
    "sns.boxplot(x=dataset[\"reading score\"])\n",
    "plt.show()\n",
    "\n",
    "sns.boxplot(x=dataset[\"writing score\"])\n",
    "plt.show()"
   ]
  },
  {
   "cell_type": "code",
   "execution_count": 7,
   "metadata": {},
   "outputs": [
    {
     "name": "stdout",
     "output_type": "stream",
     "text": [
      "Max threshold for math score: 90.04999999999995\n",
      "Min threshold for math score: 40.95\n",
      "<class 'pandas.core.frame.DataFrame'>\n",
      "Index: 900 entries, 0 to 999\n",
      "Data columns (total 8 columns):\n",
      " #   Column                       Non-Null Count  Dtype  \n",
      "---  ------                       --------------  -----  \n",
      " 0   gender                       900 non-null    object \n",
      " 1   race/ethnicity               900 non-null    object \n",
      " 2   parental level of education  900 non-null    object \n",
      " 3   lunch                        900 non-null    object \n",
      " 4   test preparation course      900 non-null    object \n",
      " 5   math score                   900 non-null    float64\n",
      " 6   reading score                900 non-null    float64\n",
      " 7   writing score                900 non-null    float64\n",
      "dtypes: float64(3), object(5)\n",
      "memory usage: 63.3+ KB\n"
     ]
    },
    {
     "data": {
      "image/png": "[encoded data removed]",
      "text/plain": [
       "<Figure size 640x480 with 1 Axes>"
      ]
     },
     "metadata": {},
     "output_type": "display_data"
    }
   ],
   "source": [
    "# Method 1: Percentile-based outlier detection\n",
    "# YT video: https://www.youtube.com/watch?v=7sJaRHF03K8# Percentile-based outlier detection is a statistical method used to detect outliers in the dataset. It involves calculating the lower and upper bounds of the data based on the percentiles and identifying the values that fall outside these bounds as outliers.\n",
    "\n",
    "max_threshold = dataset[\"math score\"].quantile(0.95)\n",
    "print(f\"Max threshold for math score: {max_threshold}\")\n",
    "\n",
    "min_threshold = dataset[\"math score\"].quantile(0.05)\n",
    "print(f\"Min threshold for math score: {min_threshold}\")\n",
    "\n",
    "# print(dataset[dataset[\"math score\"] > max_threshold]) # Display the rows where math score is greater than the max threshold\n",
    "# print(dataset[dataset[\"math score\"] < min_threshold]) # Display the rows where math score is less than the min threshold\n",
    "\n",
    "# Remove outliers\n",
    "dataset = dataset[(dataset[\"math score\"] < max_threshold) & (dataset[\"math score\"] > min_threshold)]\n",
    "\n",
    "dataset.info()\n",
    "\n",
    "sns.boxplot(x=dataset[\"math score\"])\n",
    "plt.show()\n"
   ]
  },
  {
   "cell_type": "code",
   "execution_count": 21,
   "metadata": {},
   "outputs": [
    {
     "data": {
      "text/plain": [
       "<Axes: xlabel='reading score'>"
      ]
     },
     "execution_count": 21,
     "metadata": {},
     "output_type": "execute_result"
    },
    {
     "data": {
      "image/png": "[encoded data removed]",
      "text/plain": [
       "<Figure size 640x480 with 1 Axes>"
      ]
     },
     "metadata": {},
     "output_type": "display_data"
    }
   ],
   "source": [
    "# Method 2: Z-score method\n",
    "# Z-score is a standardized score that indicates how many standard deviations a data point is from the mean. It is calculated as the difference between a data point and the mean divided by the standard deviation.\n",
    "# Z = (X - μ) / σ\n",
    "# where X is the data point, μ is the mean, and σ is the standard deviation.\n",
    "# YT video for Z-score: https://www.youtube.com/watch?v=KFuEAGR3HS4\n",
    "\n",
    "z = (dataset[\"reading score\"] - dataset[\"reading score\"].mean()) / dataset[\"reading score\"].std()\n",
    "\n",
    "dataset = dataset[(z < 3) & (z > -3)] # Keep only the data points within 3 standard deviations\n",
    "\n",
    "sns.boxplot(x=dataset[\"reading score\"])\n"
   ]
  },
  {
   "cell_type": "code",
   "execution_count": 24,
   "metadata": {},
   "outputs": [
    {
     "data": {
      "text/plain": [
       "<Axes: xlabel='writing score'>"
      ]
     },
     "execution_count": 24,
     "metadata": {},
     "output_type": "execute_result"
    },
    {
     "data": {
      "image/png": "[encoded data removed]",
      "text/plain": [
       "<Figure size 640x480 with 1 Axes>"
      ]
     },
     "metadata": {},
     "output_type": "display_data"
    }
   ],
   "source": [
    "# Method 3: IQR (Interquartile Range) method\n",
    "# IQR is the range between the first quartile (Q1) and the third quartile (Q3) of the data. It is calculated as:\n",
    "# IQR = Q3 - Q1\n",
    "# Outliers are defined as data points that fall below Q1 - 1.5 * IQR or above Q3 + 1.5 * IQR.\n",
    "# YT video for IQR: https://www.youtube.com/watch?v=A3gClkblXK8\n",
    "\n",
    "Q1 = dataset[\"writing score\"].quantile(0.25)\n",
    "Q3 = dataset[\"writing score\"].quantile(0.75)\n",
    "\n",
    "IQR = Q3 - Q1\n",
    "\n",
    "lower_bound = Q1 - 1.5 * IQR\n",
    "upper_bound = Q3 + 1.5 * IQR\n",
    "\n",
    "dataset = dataset[(dataset[\"writing score\"] > lower_bound) & (dataset[\"writing score\"] < upper_bound)]\n",
    "\n",
    "sns.boxplot(x=dataset[\"writing score\"])\n"
   ]
  },
  {
   "cell_type": "code",
   "execution_count": 26,
   "metadata": {},
   "outputs": [
    {
     "name": "stdout",
     "output_type": "stream",
     "text": [
      "   math score  math score_scaled\n",
      "0        72.0           0.632653\n",
      "1        69.0           0.571429\n",
      "2        90.0           1.000000\n",
      "3        47.0           0.122449\n",
      "4        76.0           0.714286\n",
      "   reading score  reading score_normalized\n",
      "0           72.0                  0.202035\n",
      "1           90.0                  1.642119\n",
      "2           95.0                  2.042142\n",
      "3           57.0                 -0.998035\n",
      "4           78.0                  0.682063\n"
     ]
    }
   ],
   "source": [
    "# Data Transformation:\n",
    "# Data transformation is the process of converting data from one form to another to make it suitable for analysis. It involves changing the scale, converting non-linear relationships into linear ones, and reducing skewness to make the distribution normal.\n",
    "\n",
    "# Method 1 : Min-Max Scaling:\n",
    "# Min-Max scaling is a technique used to scale the data between 0 and 1. It is calculated as:\n",
    "# X_scaled = (X - X_min) / (X_max - X_min)\n",
    "# where X is the data point, X_min is the minimum value, and X_max is the maximum value.\n",
    "\n",
    "# Apply Min-Max scaling to the math score variable\n",
    "dataset[\"math score_scaled\"] = (dataset[\"math score\"] - dataset[\"math score\"].min()) / (dataset[\"math score\"].max() - dataset[\"math score\"].min())\n",
    "\n",
    "# Display the first 5 rows of the dataset with the scaled math score\n",
    "print(dataset[[\"math score\", \"math score_scaled\"]].head())\n",
    "\n",
    "\n",
    "# Method 2: Z Score Normalization(Standardization)\n",
    "# Z-score normalization is a technique used to standardize the data by transforming it into a standard normal distribution with a mean of 0 and a standard deviation of 1. It is calculated as:\n",
    "# Z = (X - μ) / σ\n",
    "# where X is the data point, μ is the mean, and σ is the standard deviation.\n",
    "\n",
    "# Apply Z-score normalization to the reading score variable\n",
    "dataset[\"reading score_normalized\"] = (dataset[\"reading score\"] - dataset[\"reading score\"].mean()) / dataset[\"reading score\"].std()\n",
    "\n",
    "# Display the first 5 rows of the dataset with the normalized reading score\n",
    "print(dataset[[\"reading score\", \"reading score_normalized\"]].head())"
   ]
  }
 ],
 "metadata": {
  "kernelspec": {
   "display_name": "base",
   "language": "python",
   "name": "python3"
  },
  "language_info": {
   "codemirror_mode": {
    "name": "ipython",
    "version": 3
   },
   "file_extension": ".py",
   "mimetype": "text/x-python",
   "name": "python",
   "nbconvert_exporter": "python",
   "pygments_lexer": "ipython3",
   "version": "3.11.7"
  }
 },
 "nbformat": 4,
 "nbformat_minor": 2
}
